{
 "cells": [
  {
   "cell_type": "markdown",
   "metadata": {},
   "source": [
    "## 讀取 txt 檔\n",
    "* 請讀取 [text file](https://raw.githubusercontent.com/vashineyu/slides_and_others/master/tutorial/examples/imagenet_urls_examples.txt)\n",
    "* 懶人複製連結: https://raw.githubusercontent.com/vashineyu/slides_and_others/master/tutorial/examples/imagenet_urls_examples.txt\n",
    "\n",
    "### Hints: 使用 [Request](https://blog.gtwang.org/programming/python-requests-module-tutorial/) 抓取資料\n",
    "### Hints: [字串分割](http://www.runoob.com/python/att-string-split.html)\n",
    "### Hints: 例外處理: [Try-Except](https://pydoing.blogspot.com/2011/01/python-try.html)"
   ]
  },
  {
   "cell_type": "code",
   "execution_count": 1,
   "metadata": {
    "collapsed": true
   },
   "outputs": [],
   "source": [
    "## 假如我們不想把資料載到自己的電腦裡?\n",
    "# 把連結填入\n",
    "target_url = 'https://raw.githubusercontent.com/vashineyu/slides_and_others/master/tutorial/examples/imagenet_urls_examples.txt'"
   ]
  },
  {
   "cell_type": "code",
   "execution_count": 32,
   "metadata": {
    "collapsed": false
   },
   "outputs": [
    {
     "name": "stdout",
     "output_type": "stream",
     "text": [
      "784594\n"
     ]
    },
    {
     "data": {
      "text/plain": [
       "u'n00015388_157\\thttp:/'"
      ]
     },
     "execution_count": 32,
     "metadata": {},
     "output_type": "execute_result"
    }
   ],
   "source": [
    "import requests\n",
    "response = requests.get(target_url)\n",
    "data = response.text\n",
    "\n",
    "# 用 request 傳送回來的資料不會認得斷行符號\n",
    "print(len(data))\n",
    "data[0:20]"
   ]
  },
  {
   "cell_type": "code",
   "execution_count": 33,
   "metadata": {
    "collapsed": false,
    "scrolled": false
   },
   "outputs": [
    {
     "name": "stdout",
     "output_type": "stream",
     "text": [
      "19991\n"
     ]
    },
    {
     "data": {
      "text/plain": [
       "[u'n00015388_157',\n",
       " u'http://farm1.static.flickr.com/145/430300483_21e993670c.jpg',\n",
       " u'n00015388_238',\n",
       " u'http://farm2.static.flickr.com/1005/3352960681_37b9c1d27b.jpg',\n",
       " u'n00015388_304']"
      ]
     },
     "execution_count": 33,
     "metadata": {},
     "output_type": "execute_result"
    }
   ],
   "source": [
    "# 找到換行符號，用該符號做字串分割後，把它拿掉\n",
    "import re\n",
    "split_tag = \"\\t|\\n\"\n",
    "data = re.split(split_tag,data)\n",
    "print(len(data))\n",
    "data[0:5]"
   ]
  },
  {
   "cell_type": "code",
   "execution_count": 46,
   "metadata": {
    "collapsed": false
   },
   "outputs": [
    {
     "data": {
      "text/plain": [
       "9995"
      ]
     },
     "execution_count": 46,
     "metadata": {},
     "output_type": "execute_result"
    }
   ],
   "source": [
    "len(data[1:len(data)+1:2])"
   ]
  },
  {
   "cell_type": "markdown",
   "metadata": {},
   "source": [
    "## 將 txt 轉成 pandas dataframe"
   ]
  },
  {
   "cell_type": "code",
   "execution_count": 47,
   "metadata": {
    "collapsed": false,
    "scrolled": true
   },
   "outputs": [
    {
     "name": "stdout",
     "output_type": "stream",
     "text": [
      "                  V1                                                 V2\n",
      "0      n00015388_157  http://farm1.static.flickr.com/145/430300483_2...\n",
      "1      n00015388_238  http://farm2.static.flickr.com/1005/3352960681...\n",
      "2      n00015388_304  http://farm1.static.flickr.com/27/51009336_a96...\n",
      "3      n00015388_327  http://farm4.static.flickr.com/3025/2444687979...\n",
      "4      n00015388_355  http://img100.imageshack.us/img100/3253/forres...\n",
      "5      n00015388_373  http://img172.imageshack.us/img172/4606/napo03...\n",
      "6      n00015388_379  http://fotootjesvanannelies.web-log.nl/olifant...\n",
      "7      n00015388_388  http://www.deweekkrant.nl/images/library/pictu...\n",
      "8      n00015388_442  http://www.porschemania.it/discus/messages/815...\n",
      "9      n00015388_474  http://farm1.static.flickr.com/72/225029238_80...\n",
      "10     n00015388_514  http://farm2.static.flickr.com/1128/1432436038...\n",
      "11     n00015388_671  http://farm4.static.flickr.com/3217/2942611930...\n",
      "12     n00015388_686  http://farm1.static.flickr.com/29/54608382_ee8...\n",
      "13     n00015388_706  http://www.dierentuin.nl/images/jongengiraffe.jpg\n",
      "14     n00015388_725  http://farm4.static.flickr.com/3279/3118047175...\n",
      "15     n00015388_758  https://w3f7yg.bay.livefilestore.com/y1miLTQmc...\n",
      "16     n00015388_841  http://farm4.static.flickr.com/3271/2496428562...\n",
      "17     n00015388_842  http://farm2.static.flickr.com/1115/703274169_...\n",
      "18    n00015388_1087  http://farm1.static.flickr.com/70/200362625_93...\n",
      "19    n00015388_1145  http://farm1.static.flickr.com/180/370761991_7...\n",
      "20    n00015388_1184  http://farm3.static.flickr.com/2197/1659368303...\n",
      "21    n00015388_1191  http://home.planet.nl/~huske073/Dieren/dier-si...\n",
      "22    n00015388_1224  http://www.joanranquet.com/images/AnimalNews-L...\n",
      "23    n00015388_1457  http://www.wereldomroep.nl/images/assets/10707839\n",
      "24    n00015388_1476  http://farm4.static.flickr.com/3231/2858342976...\n",
      "25    n00015388_1530  http://farm3.static.flickr.com/2188/2086791140...\n",
      "26    n00015388_1574  http://farm2.static.flickr.com/1140/950904728_...\n",
      "27    n00015388_1608  http://www.dierenrijk.nl/uploads/media/620x248...\n",
      "28    n00015388_1640  http://farm4.static.flickr.com/3107/2652244127...\n",
      "29    n00015388_1688  http://fotootjesvanannelies.web-log.nl/olifant...\n",
      "...              ...                                                ...\n",
      "9965  n00433802_5040  http://i413.photobucket.com/albums/pp212/gymgi...\n",
      "9966  n00433802_5045  http://www2.pictures.gi.zimbio.com/2008+Olympi...\n",
      "9967  n00433802_5046  http://images1.fanpop.com/images/photos/200000...\n",
      "9968  n00433802_5048  http://www.triadgymnastics.com/Teams/Junior%20...\n",
      "9969  n00433802_5070  http://home.global.co.za/~tyshler/pictures/gym...\n",
      "9970  n00433802_5076  http://news.jongo.com/articles/07/0319/9500/21...\n",
      "9971  n00433802_5077  http://static.flickr.com/3026/3016579222_83864...\n",
      "9972  n00433802_5103  http://www.grampianspyrenees.com.au/Page/Image...\n",
      "9973  n00433802_5108  http://www.graceclick.ca/images/Yorke1599_72dp...\n",
      "9974  n00433802_5114  http://photos.upi.com/story/w/c8b6912ae0806acd...\n",
      "9975  n00433802_5123  http://www3.pictures.gi.zimbio.com/2008+Olympi...\n",
      "9976  n00433802_5124  http://static.flickr.com/3206/3015742771_eeb85...\n",
      "9977  n00433802_5130  http://www.sportovniaerobik.cz/upload.en/9/98a...\n",
      "9978  n00433802_5136  http://www.oasisgym.com/UploadImages/tn_PICT17...\n",
      "9979  n00433802_5147  http://static.flickr.com/2148/2463933378_02468...\n",
      "9980  n00433802_5153  http://www.glasgowschoolofsportbellahoustonaca...\n",
      "9981  n00433802_5157  http://static.flickr.com/3523/3318629730_4797b...\n",
      "9982  n00433802_5159  http://static.flickr.com/179/420123133_2e40f7b...\n",
      "9983  n00433802_5161  http://static.flickr.com/101/313434378_5d928b0...\n",
      "9984  n00433802_5162          http://www.ddgym.com/images/kidbounce.jpg\n",
      "9985  n00433802_5167        http://creativeplayrooms.com/gymnastics.jpg\n",
      "9986  n00433802_5171  http://static.flickr.com/3078/3089444592_73c67...\n",
      "9987  n00433802_5179  http://www.glendale.k12.wi.us/Domains/glendale...\n",
      "9988  n00433802_5181  http://media.thesunnews.com/smedia/2009/02/14/...\n",
      "9989  n00433802_5189  http://static.flickr.com/3451/3278255172_fbd2a...\n",
      "9990  n00433802_5197  http://grfx.cstv.com/photos/schools/afa/sports...\n",
      "9991  n00433802_5202  http://farm2.static.flickr.com/1130/960179413_...\n",
      "9992  n00433802_5204  http://static.flickr.com/150/387324732_f8149d0...\n",
      "9993  n00433802_5208  http://3.bp.blogspot.com/_9T2cRtlgHV0/SK55RHay...\n",
      "9994  n00433802_5211  http://www.loudoungymnastics.com/images/Girls_...\n",
      "\n",
      "[9995 rows x 2 columns]\n"
     ]
    }
   ],
   "source": [
    "from pandas.core.frame import DataFrame\n",
    "df = {'V1' : data[0:len(data)-1:2],\n",
    "     'V2' : data[1::2]}\n",
    "df = DataFrame(df)\n",
    "print(df)"
   ]
  },
  {
   "cell_type": "markdown",
   "metadata": {},
   "source": [
    "##  從所提供的 txt 中的連結讀取圖片，請讀取上面 data frame 中的前 5 張圖片"
   ]
  },
  {
   "cell_type": "code",
   "execution_count": 69,
   "metadata": {
    "collapsed": true
   },
   "outputs": [],
   "source": [
    "from PIL import Image\n",
    "from io import BytesIO\n",
    "import numpy as np\n",
    "import matplotlib.pyplot as plt\n",
    "\n",
    "# 請用 df.loc[...] 得到第一筆資料的連結\n",
    "first_link = df.loc[0,'V2']\n",
    "\n",
    "response = requests.get(first_link)\n",
    "img = Image.open(BytesIO(response.content))\n",
    "\n",
    "# Convert img to numpy array\n",
    "img = np.array(img)\n",
    "\n",
    "plt.imshow(img)\n",
    "plt.show()"
   ]
  },
  {
   "cell_type": "code",
   "execution_count": 76,
   "metadata": {
    "collapsed": true
   },
   "outputs": [],
   "source": [
    "def img2arr_fromURLs(url_list, resize = False):\n",
    "    response = requests.get(url_list)\n",
    "    img = Image.open(BytesIO(response.content))\n",
    "    img_list = np.array(img)\n",
    "    return img_list"
   ]
  },
  {
   "cell_type": "code",
   "execution_count": 106,
   "metadata": {
    "collapsed": false
   },
   "outputs": [
    {
     "name": "stdout",
     "output_type": "stream",
     "text": [
      "Total images that we got: 4 \n"
     ]
    }
   ],
   "source": [
    "result = map(img2arr_fromURLs,df.ix[0:3,1])\n",
    "print(\"Total images that we got: %i \" % len(result)) \n",
    "\n",
    "for im_get in result:\n",
    "    plt.imshow(im_get)\n",
    "    plt.show()"
   ]
  }
 ],
 "metadata": {
  "anaconda-cloud": {},
  "kernelspec": {
   "display_name": "Python [Root]",
   "language": "python",
   "name": "Python [Root]"
  },
  "language_info": {
   "codemirror_mode": {
    "name": "ipython",
    "version": 2
   },
   "file_extension": ".py",
   "mimetype": "text/x-python",
   "name": "python",
   "nbconvert_exporter": "python",
   "pygments_lexer": "ipython2",
   "version": "2.7.12"
  }
 },
 "nbformat": 4,
 "nbformat_minor": 1
}
